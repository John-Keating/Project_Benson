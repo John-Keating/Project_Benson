{
 "cells": [
  {
   "cell_type": "markdown",
   "metadata": {},
   "source": [
    "Get the locations of New York stations"
   ]
  },
  {
   "cell_type": "code",
   "execution_count": 10,
   "metadata": {
    "collapsed": true
   },
   "outputs": [],
   "source": [
    "import pandas as pd\n",
    "\n",
    "def get_station_locations():\n",
    "    df = pd.read_csv(\"http://web.mta.info/developers/data/nyct/subway/StationEntrances.csv\")\n",
    "    return df"
   ]
  },
  {
   "cell_type": "code",
   "execution_count": 12,
   "metadata": {
    "collapsed": false
   },
   "outputs": [
    {
     "data": {
      "text/plain": [
       "Index([u'Division', u'Line', u'Station_Name', u'Station_Latitude',\n",
       "       u'Station_Longitude', u'Route_1', u'Route_2', u'Route_3', u'Route_4',\n",
       "       u'Route_5', u'Route_6', u'Route_7', u'Route_8', u'Route_9', u'Route_10',\n",
       "       u'Route_11', u'Entrance_Type', u'Entry', u'Exit_Only', u'Vending',\n",
       "       u'Staffing', u'Staff_Hours', u'ADA', u'ADA_Notes', u'Free_Crossover',\n",
       "       u'North_South_Street', u'East_West_Street', u'Corner', u'Latitude',\n",
       "       u'Longitude'],\n",
       "      dtype='object')"
      ]
     },
     "execution_count": 12,
     "metadata": {},
     "output_type": "execute_result"
    }
   ],
   "source": [
    "df = get_station_locations()\n",
    "df.columns"
   ]
  },
  {
   "cell_type": "code",
   "execution_count": null,
   "metadata": {
    "collapsed": true
   },
   "outputs": [],
   "source": []
  }
 ],
 "metadata": {
  "kernelspec": {
   "display_name": "Python 2",
   "language": "python",
   "name": "python2"
  },
  "language_info": {
   "codemirror_mode": {
    "name": "ipython",
    "version": 2
   },
   "file_extension": ".py",
   "mimetype": "text/x-python",
   "name": "python",
   "nbconvert_exporter": "python",
   "pygments_lexer": "ipython2",
   "version": "2.7.10"
  }
 },
 "nbformat": 4,
 "nbformat_minor": 0
}
